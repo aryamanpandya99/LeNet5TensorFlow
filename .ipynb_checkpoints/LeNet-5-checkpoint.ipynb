{
 "cells": [
  {
   "cell_type": "code",
   "execution_count": 80,
   "id": "95597cc8",
   "metadata": {},
   "outputs": [],
   "source": [
    "import gzip\n",
    "import numpy as np\n",
    "from requests import get\n",
    "import tensorflow as tf\n",
    "from tensorflow import keras\n",
    "import keras.layers as layers\n",
    "from keras.utils.np_utils import to_categorical\n",
    "from keras.preprocessing.image import ImageDataGenerator\n",
    "from sklearn.model_selection import train_test_split\n",
    "from keras.callbacks import TensorBoard\n",
    "from time import time\n",
    "from keras.models import Sequential"
   ]
  },
  {
   "cell_type": "code",
   "execution_count": 81,
   "id": "d391593f",
   "metadata": {},
   "outputs": [],
   "source": [
    "def read_MNIST(images_path: str, labels_path: str):\n",
    "    with gzip.open(labels_path, 'rb') as lf:\n",
    "        labels = np.frombuffer(lf.read(), dtype=np.uint8, offset=8)\n",
    "    with gzip.open(images_path,'rb') as iF:\n",
    "        length = len(labels)\n",
    "        features = np.frombuffer(iF.read(), dtype=np.uint8, offset=16) \\\n",
    "                        .reshape(length, 784) \\\n",
    "                        .reshape(length, 28, 28, 1)\n",
    "        \n",
    "    return features, labels"
   ]
  },
  {
   "cell_type": "code",
   "execution_count": 82,
   "id": "26e1d8e7",
   "metadata": {},
   "outputs": [],
   "source": [
    "train = {}\n",
    "test = {}\n",
    "\n",
    "train['features'], train['labels'] = read_MNIST('train-images-idx3-ubyte.gz', 'train-labels-idx1-ubyte.gz')\n",
    "test['features'], test['labels'] = read_MNIST('t10k-images-idx3-ubyte.gz', 't10k-labels-idx1-ubyte.gz')"
   ]
  },
  {
   "cell_type": "code",
   "execution_count": 83,
   "id": "885aac5b",
   "metadata": {},
   "outputs": [
    {
     "name": "stdout",
     "output_type": "stream",
     "text": [
      "Training Images: 60000\n",
      "Test Images: 10000\n"
     ]
    }
   ],
   "source": [
    "print('Training Images:', train['features'].shape[0])\n",
    "print('Test Images:', test['features'].shape[0])"
   ]
  },
  {
   "cell_type": "code",
   "execution_count": 84,
   "id": "798e508a",
   "metadata": {},
   "outputs": [],
   "source": [
    "model = keras.Sequential()\n",
    "model.add(layers.Conv2D(filters = 6, kernel_size = (3,3), activation = 'relu', input_shape = (32, 32, 1)))\n",
    "model.add(layers.AveragePooling2D())\n",
    "model.add(layers.Conv2D(filters = 16, kernel_size = (3, 3), activation = \"relu\"))\n",
    "model.add(layers.AveragePooling2D())\n",
    "model.add(layers.Flatten())\n",
    "model.add(layers.Dense(units=120, activation='relu'))\n",
    "model.add(layers.Dense(units=84, activation='relu'))\n",
    "model.add(layers.Dense(units=10, activation = 'softmax'))"
   ]
  },
  {
   "cell_type": "code",
   "execution_count": 85,
   "id": "86bef655",
   "metadata": {},
   "outputs": [],
   "source": [
    "model.compile(loss = keras.losses.categorical_crossentropy, optimizer = 'sgd', metrics = ['accuracy'])"
   ]
  },
  {
   "cell_type": "code",
   "execution_count": 86,
   "id": "9e29bc1c",
   "metadata": {},
   "outputs": [
    {
     "data": {
      "text/plain": [
       "(32, 32, 1)"
      ]
     },
     "execution_count": 86,
     "metadata": {},
     "output_type": "execute_result"
    }
   ],
   "source": [
    "train['features']      = np.pad(train['features'], ((0,0),(2,2),(2,2),(0,0)), 'constant')\n",
    "test['features']       = np.pad(test['features'], ((0,0),(2,2),(2,2),(0,0)), 'constant')\n",
    "x_train, y_train = train['features'], to_categorical(train['labels'])\n",
    "x_test, y_test = test['features'], to_categorical(test['labels'])\n",
    "x_train[0].shape"
   ]
  },
  {
   "cell_type": "code",
   "execution_count": 87,
   "id": "e9bc36ec",
   "metadata": {},
   "outputs": [],
   "source": [
    "EPOCHS = 10 \n",
    "batch_size = 128 "
   ]
  },
  {
   "cell_type": "code",
   "execution_count": 88,
   "id": "38d525bc",
   "metadata": {},
   "outputs": [],
   "source": [
    "train_generator = ImageDataGenerator().flow(x_train, y_train, batch_size=batch_size)\n",
    "validation_generator = ImageDataGenerator().flow(x_validation, y_validation, batch_size=batch_size)"
   ]
  },
  {
   "cell_type": "code",
   "execution_count": 89,
   "id": "d24da937",
   "metadata": {
    "scrolled": true
   },
   "outputs": [
    {
     "name": "stdout",
     "output_type": "stream",
     "text": [
      "Epoch 1/10\n",
      "422/422 [==============================] - 6s 14ms/step - loss: 0.5036 - accuracy: 0.8471 - val_loss: 0.1749 - val_accuracy: 0.9445\n",
      "Epoch 2/10\n",
      "422/422 [==============================] - 6s 14ms/step - loss: 0.1441 - accuracy: 0.9555 - val_loss: 0.1104 - val_accuracy: 0.9663\n",
      "Epoch 3/10\n",
      "422/422 [==============================] - 6s 14ms/step - loss: 0.1046 - accuracy: 0.9684 - val_loss: 0.0806 - val_accuracy: 0.9777\n",
      "Epoch 4/10\n",
      "422/422 [==============================] - 6s 15ms/step - loss: 0.0858 - accuracy: 0.9730 - val_loss: 0.0734 - val_accuracy: 0.9805\n",
      "Epoch 5/10\n",
      "422/422 [==============================] - 6s 14ms/step - loss: 0.0720 - accuracy: 0.9773 - val_loss: 0.0717 - val_accuracy: 0.9812\n",
      "Epoch 6/10\n",
      "422/422 [==============================] - 6s 14ms/step - loss: 0.0641 - accuracy: 0.9802 - val_loss: 0.0649 - val_accuracy: 0.9828\n",
      "Epoch 7/10\n",
      "422/422 [==============================] - 6s 15ms/step - loss: 0.0554 - accuracy: 0.9828 - val_loss: 0.0607 - val_accuracy: 0.9845\n",
      "Epoch 8/10\n",
      "422/422 [==============================] - 6s 15ms/step - loss: 0.0495 - accuracy: 0.9842 - val_loss: 0.0631 - val_accuracy: 0.9837\n",
      "Epoch 9/10\n",
      "422/422 [==============================] - 7s 16ms/step - loss: 0.0454 - accuracy: 0.9859 - val_loss: 0.0654 - val_accuracy: 0.9813\n",
      "Epoch 10/10\n",
      "422/422 [==============================] - 7s 17ms/step - loss: 0.0415 - accuracy: 0.9873 - val_loss: 0.0629 - val_accuracy: 0.9835\n"
     ]
    },
    {
     "data": {
      "text/plain": [
       "<keras.callbacks.History at 0x7fe960183970>"
      ]
     },
     "execution_count": 89,
     "metadata": {},
     "output_type": "execute_result"
    }
   ],
   "source": [
    "model.fit(x_train, y_train, batch_size=batch_size, epochs=EPOCHS, validation_split=0.1)"
   ]
  },
  {
   "cell_type": "code",
   "execution_count": 90,
   "id": "b224d8af",
   "metadata": {},
   "outputs": [
    {
     "name": "stdout",
     "output_type": "stream",
     "text": [
      "313/313 [==============================] - 1s 4ms/step - loss: 0.0598 - accuracy: 0.9803\n",
      "Test loss: 0.059807103127241135\n",
      "Test accuracy: 0.9803000092506409\n"
     ]
    }
   ],
   "source": [
    "score = model.evaluate(x_test, y_test)\n",
    "print('Test loss:', score[0])\n",
    "print('Test accuracy:', score[1])"
   ]
  }
 ],
 "metadata": {
  "kernelspec": {
   "display_name": "Python 3 (ipykernel)",
   "language": "python",
   "name": "python3"
  },
  "language_info": {
   "codemirror_mode": {
    "name": "ipython",
    "version": 3
   },
   "file_extension": ".py",
   "mimetype": "text/x-python",
   "name": "python",
   "nbconvert_exporter": "python",
   "pygments_lexer": "ipython3",
   "version": "3.9.7"
  }
 },
 "nbformat": 4,
 "nbformat_minor": 5
}
